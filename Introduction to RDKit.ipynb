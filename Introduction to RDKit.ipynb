{
 "cells": [
  {
   "cell_type": "code",
   "execution_count": 3,
   "metadata": {},
   "outputs": [],
   "source": [
    "import pandas as pd "
   ]
  },
  {
   "cell_type": "markdown",
   "metadata": {},
   "source": [
    "Here we select 100 random sample ligands from BindingDB database to be used in experiments. "
   ]
  },
  {
   "cell_type": "code",
   "execution_count": 141,
   "metadata": {},
   "outputs": [],
   "source": [
    "sample_ligands = pd.read_csv('sample_ligands.csv', index_col=False)"
   ]
  },
  {
   "cell_type": "code",
   "execution_count": 144,
   "metadata": {},
   "outputs": [
    {
     "data": {
      "text/plain": [
       "['COc1ccc(-c2ccc3cnc(Nc4ccc(C5CCN(CC(N)=O)CC5)cc4OC)nn23)c(OC)c1',\n",
       " 'C[C@@]1(c2cc(CNC3(C#N)CC3)c(F)cc2F)CCSC(N)=N1',\n",
       " 'O=C(N1CCCC1)C(F)(F)c1ccc(-n2nc(C(F)(F)F)c3c2CCCC3)cc1',\n",
       " 'O=S(=O)(Nc1ncns1)c1ccc2c(c1)OCCN2c1ccc(C(F)(F)F)cc1-c1cn[nH]c1',\n",
       " 'OC[C@@H]1OC(n2cnc3c2N=CN2C[C@@H](Cc4ccccc4)N=C32)[C@@H](O)[C@H]1O']"
      ]
     },
     "execution_count": 144,
     "metadata": {},
     "output_type": "execute_result"
    }
   ],
   "source": [
    "sample_ligands['canonical_SMILES'].values.tolist()[:5]"
   ]
  },
  {
   "cell_type": "code",
   "execution_count": 9,
   "metadata": {},
   "outputs": [
    {
     "data": {
      "text/plain": [
       "'N[C@H]1C[C@@H](N2Cc3cnc(C4CC4)nc3C2)CC[C@@H]1c1cc(F)c(F)cc1F'"
      ]
     },
     "execution_count": 9,
     "metadata": {},
     "output_type": "execute_result"
    }
   ],
   "source": [
    "ligand = sample_ligands['canonical_SMILES'].sample(1).values.tolist()[0]\n",
    "ligand"
   ]
  },
  {
   "cell_type": "markdown",
   "metadata": {},
   "source": [
    "# Introduction to RDKit\n",
    "\n",
    "RDKit is an open source toolkit for cheminformatics. \n",
    "* Reading/writing molecules\n",
    "* Working with molecules. Looping over bonds and atoms.\n",
    "* 2D/3D structures\n",
    "* Substructure search\n",
    "* Similarity search\n",
    "* Descriptors calculation\n",
    "* Structural and pharmacophore fingerprints\n",
    "* Reactions and combinatorial libraries generation\n",
    "* Drawing molecules"
   ]
  },
  {
   "cell_type": "markdown",
   "metadata": {},
   "source": [
    "## Reading and Writing Molecules\n",
    "RDKit supports various formats: SMILES, Mol, SDF, Mol2, PDB, FASTA, etc."
   ]
  },
  {
   "cell_type": "code",
   "execution_count": 25,
   "metadata": {},
   "outputs": [],
   "source": [
    "from rdkit import Chem\n",
    "from rdkit.Chem import AllChem"
   ]
  },
  {
   "cell_type": "code",
   "execution_count": 145,
   "metadata": {},
   "outputs": [
    {
     "data": {
      "image/png": "[encoded data removed]",
      "text/plain": [
       "<rdkit.Chem.rdchem.Mol at 0x1957f67bc60>"
      ]
     },
     "execution_count": 145,
     "metadata": {},
     "output_type": "execute_result"
    }
   ],
   "source": [
    "m = Chem.MolFromSmiles(ligand) # possible to read from smarts, mol, supplier etc.\n",
    "m"
   ]
  },
  {
   "cell_type": "markdown",
   "metadata": {},
   "source": [
    "While writing to SMILES, RDKit provides canonical SMILES but without chirality by default."
   ]
  },
  {
   "cell_type": "code",
   "execution_count": 147,
   "metadata": {},
   "outputs": [
    {
     "name": "stdout",
     "output_type": "stream",
     "text": [
      "c1ccncc1\n",
      "c1ccncc1\n",
      "c1ccncc1\n"
     ]
    }
   ],
   "source": [
    "print(Chem.MolToSmiles(Chem.MolFromSmiles('C1=CC=CN=C1')))\n",
    "print(Chem.MolToSmiles(Chem.MolFromSmiles('c1cccnc1')))\n",
    "print(Chem.MolToSmiles(Chem.MolFromSmiles('n1ccccc1')))"
   ]
  },
  {
   "cell_type": "code",
   "execution_count": 148,
   "metadata": {},
   "outputs": [
    {
     "name": "stdout",
     "output_type": "stream",
     "text": [
      "Not isomeric\t NC1CC(N2Cc3cnc(C4CC4)nc3C2)CCC1c1cc(F)c(F)cc1F\n",
      "Isomeric\t N[C@H]1C[C@@H](N2Cc3cnc(C4CC4)nc3C2)CC[C@@H]1c1cc(F)c(F)cc1F\n",
      "Kekulized\t N[C@H]1C[C@@H](N2CC3=CN=C(C4CC4)N=C3C2)CC[C@@H]1C1=CC(F)=C(F)C=C1F\n"
     ]
    }
   ],
   "source": [
    "print('Not isomeric\\t', Chem.MolToSmiles(m, isomericSmiles=False)) \n",
    "print('Isomeric\\t', Chem.MolToSmiles(m))\n",
    "Chem.Kekulize(m)\n",
    "print('Kekulized\\t', Chem.MolToSmiles(m, kekuleSmiles=True))"
   ]
  },
  {
   "cell_type": "markdown",
   "metadata": {},
   "source": [
    "*The smiles provided when one requests kekuleSmiles are not canonical*"
   ]
  },
  {
   "cell_type": "markdown",
   "metadata": {},
   "source": [
    "### Structure Sanitization\n",
    "http://www.rdkit.org/docs/RDKit_Book.html#molecular-sanitization\n",
    "\n",
    "RDKit performs a \"sanitization\" operation while reading molecules. "
   ]
  },
  {
   "cell_type": "markdown",
   "metadata": {},
   "source": [
    "2D and 3D Coordinates can be generated and stored with the molecule"
   ]
  },
  {
   "cell_type": "code",
   "execution_count": 27,
   "metadata": {},
   "outputs": [],
   "source": [
    "#AllChem.Compute2DCoords(m)\n",
    "#print(Chem.MolToMolBlock(m)) "
   ]
  },
  {
   "cell_type": "markdown",
   "metadata": {},
   "source": [
    "### Traverse Atoms and Bonds"
   ]
  },
  {
   "cell_type": "code",
   "execution_count": 40,
   "metadata": {},
   "outputs": [
    {
     "name": "stdout",
     "output_type": "stream",
     "text": [
      "Number of atoms\t\t 28\n",
      "Bond type\t\t SINGLE\n",
      "Symbol\t\t\t N\n",
      "Explicit valence\t 1\n",
      "Bond begin atom id\t 0\n",
      "Bond end atom id\t 1\n",
      "Atom at the begining:\t N\n",
      "Atom's neighbors\t ['C']\n"
     ]
    }
   ],
   "source": [
    "print('Number of atoms\\t\\t', m.GetNumAtoms())\n",
    "print('Bond type\\t\\t', m.GetBonds()[0].GetBondType())\n",
    "print('Symbol\\t\\t\\t', m.GetAtomWithIdx(0).GetSymbol())\n",
    "print('Explicit valence\\t', m.GetAtomWithIdx(0).GetExplicitValence())\n",
    "print('Bond begin atom id\\t', m.GetBondWithIdx(0).GetBeginAtomIdx())\n",
    "print('Bond end atom id\\t', m.GetBondWithIdx(0).GetEndAtomIdx())\n",
    "\n",
    "atom = m.GetAtomWithIdx(0)\n",
    "print('Atom at the begining:\\t', atom.GetSymbol())\n",
    "print('Atom\\'s neighbors\\t', [x.GetSymbol() for x in atom.GetNeighbors()])"
   ]
  },
  {
   "cell_type": "code",
   "execution_count": 48,
   "metadata": {},
   "outputs": [
    {
     "data": {
      "text/plain": [
       "((27, 17, 16, 15, 2, 1),\n",
       " (4, 29, 14, 30, 5),\n",
       " (7, 8, 12, 13, 30, 6),\n",
       " (10, 31, 11),\n",
       " (20, 22, 24, 25, 28, 19))"
      ]
     },
     "execution_count": 48,
     "metadata": {},
     "output_type": "execute_result"
    }
   ],
   "source": [
    "ri = m.GetRingInfo()\n",
    "ri.AtomRings()\n",
    "ri.BondRings()"
   ]
  },
  {
   "cell_type": "code",
   "execution_count": 42,
   "metadata": {},
   "outputs": [
    {
     "data": {
      "text/plain": [
       "5"
      ]
     },
     "execution_count": 42,
     "metadata": {},
     "output_type": "execute_result"
    }
   ],
   "source": [
    "Chem.GetSSSR(m) # smallest set of smallest rings"
   ]
  },
  {
   "cell_type": "markdown",
   "metadata": {},
   "source": [
    "## Modifying molecules\n",
    "RDKit stores the hydrogen atoms in molecules implicitly (not seen in the graph). Hydrogens could be made explicit as follows in case it is useful (e.g. generating 3D geometry)"
   ]
  },
  {
   "cell_type": "code",
   "execution_count": 49,
   "metadata": {},
   "outputs": [
    {
     "data": {
      "text/plain": [
       "51"
      ]
     },
     "execution_count": 49,
     "metadata": {},
     "output_type": "execute_result"
    }
   ],
   "source": [
    "m2 = Chem.AddHs(m)\n",
    "m2.GetNumAtoms()"
   ]
  },
  {
   "cell_type": "markdown",
   "metadata": {},
   "source": [
    "In RDKit, bonds in aromatic rings are assumed to be aromatic bonds in general. To change this, the molecule could be kekulized using rdkit.Chem.rdmolops.Kekulize() function:"
   ]
  },
  {
   "cell_type": "code",
   "execution_count": 152,
   "metadata": {},
   "outputs": [
    {
     "name": "stdout",
     "output_type": "stream",
     "text": [
      "AROMATIC\n",
      "DOUBLE\n"
     ]
    }
   ],
   "source": [
    "m2 = Chem.MolFromSmiles('c1ccccc1')\n",
    "print(m2.GetBondWithIdx(0).GetBondType())\n",
    "Chem.Kekulize(m2)\n",
    "print(m2.GetBondWithIdx(0).GetBondType())"
   ]
  },
  {
   "cell_type": "markdown",
   "metadata": {},
   "source": [
    "Bonds can be restored to the aromatic bond type using the rdkit.Chem.rdmolops.SanitizeMol() function:"
   ]
  },
  {
   "cell_type": "code",
   "execution_count": 55,
   "metadata": {},
   "outputs": [
    {
     "data": {
      "text/plain": [
       "rdkit.Chem.rdchem.BondType.AROMATIC"
      ]
     },
     "execution_count": 55,
     "metadata": {},
     "output_type": "execute_result"
    }
   ],
   "source": [
    "Chem.SanitizeMol(m2)\n",
    "m2.GetBondWithIdx(0).GetBondType()"
   ]
  },
  {
   "cell_type": "markdown",
   "metadata": {},
   "source": [
    "## Drawing molecules"
   ]
  },
  {
   "cell_type": "code",
   "execution_count": 58,
   "metadata": {},
   "outputs": [
    {
     "data": {
      "image/png": "[encoded data removed]",
      "text/plain": [
       "<PIL.PngImagePlugin.PngImageFile image mode=RGB size=300x300 at 0x1957C7B7438>"
      ]
     },
     "execution_count": 58,
     "metadata": {},
     "output_type": "execute_result"
    }
   ],
   "source": [
    " Chem.Draw.MolToImage(m)  "
   ]
  },
  {
   "cell_type": "markdown",
   "metadata": {},
   "source": [
    "## Substructure Searching\n",
    "Substructure matching can be done using query molecules built from SMARTS or SMILES"
   ]
  },
  {
   "cell_type": "code",
   "execution_count": 155,
   "metadata": {},
   "outputs": [
    {
     "name": "stdout",
     "output_type": "stream",
     "text": [
      "Match ccO ?\t\t True\n",
      "Where ?\t\t ((0, 5, 6), (4, 5, 6))\n",
      "Match with COC ?\t False\n"
     ]
    }
   ],
   "source": [
    "m = Chem.MolFromSmiles('c1ccccc1O')\n",
    "patt = Chem.MolFromSmarts('ccO')\n",
    "print('Match ccO ?\\t\\t', m.HasSubstructMatch(patt))\n",
    "print('Where ?\\t\\t', m.GetSubstructMatches(patt))\n",
    "print('Match with COC ?\\t', m.HasSubstructMatch(Chem.MolFromSmiles('COC')))"
   ]
  },
  {
   "cell_type": "markdown",
   "metadata": {},
   "source": [
    "By default information about stereochemistry **is not used** in substructure searches. But this can be changed via the useChirality argument."
   ]
  },
  {
   "cell_type": "code",
   "execution_count": 94,
   "metadata": {},
   "outputs": [
    {
     "name": "stdout",
     "output_type": "stream",
     "text": [
      "True\n",
      "False\n"
     ]
    }
   ],
   "source": [
    "m = Chem.MolFromSmiles('CC[C@H](F)Cl')\n",
    "print(m.HasSubstructMatch(Chem.MolFromSmiles('C[C@H](F)Cl')))\n",
    "print(m.HasSubstructMatch(Chem.MolFromSmiles('C[C@@H](F)Cl'), useChirality=True))"
   ]
  },
  {
   "cell_type": "markdown",
   "metadata": {},
   "source": [
    "### Substructure-based transformations\n",
    "DeleteSubstructs, ReplaceSubstructs"
   ]
  },
  {
   "cell_type": "markdown",
   "metadata": {},
   "source": [
    "## Murcko Scaffolds\n",
    "\n",
    "The RDKit provides standard Murcko-type decomposition of molecules into scaffolds (Bemis et. al, 1996)"
   ]
  },
  {
   "cell_type": "code",
   "execution_count": 95,
   "metadata": {},
   "outputs": [],
   "source": [
    "from rdkit.Chem.Scaffolds import MurckoScaffold"
   ]
  },
  {
   "cell_type": "code",
   "execution_count": 160,
   "metadata": {},
   "outputs": [
    {
     "name": "stdout",
     "output_type": "stream",
     "text": [
      "Ligand Cc1cc(C(N)=O)cc(C)c1C[C@H](N)C(=O)N1Cc2ccccc2C[C@H]1c1nc(-c2ccccc2)c[nH]1\n"
     ]
    },
    {
     "data": {
      "text/plain": [
       "'O=C(CCc1ccccc1)N1Cc2ccccc2C[C@H]1c1nc(-c2ccccc2)c[nH]1'"
      ]
     },
     "execution_count": 160,
     "metadata": {},
     "output_type": "execute_result"
    }
   ],
   "source": [
    "another_ligand = sample_ligands['canonical_SMILES'].sample(1).values.tolist()[0]\n",
    "m = Chem.MolFromSmiles(another_ligand)\n",
    "print('Ligand', another_ligand)\n",
    "core = MurckoScaffold.GetScaffoldForMol(m)\n",
    "Chem.MolToSmiles(core)"
   ]
  },
  {
   "cell_type": "code",
   "execution_count": 161,
   "metadata": {},
   "outputs": [
    {
     "data": {
      "image/png": "[encoded data removed]",
      "text/plain": [
       "<PIL.PngImagePlugin.PngImageFile image mode=RGB size=600x200 at 0x1957F62A7F0>"
      ]
     },
     "execution_count": 161,
     "metadata": {},
     "output_type": "execute_result"
    }
   ],
   "source": [
    " Chem.Draw.MolsToGridImage([m, core],  legends=['Ligand', 'Scaffold'])"
   ]
  },
  {
   "cell_type": "markdown",
   "metadata": {},
   "source": [
    "### Maximum Common Substructure"
   ]
  },
  {
   "cell_type": "code",
   "execution_count": 163,
   "metadata": {},
   "outputs": [
    {
     "data": {
      "text/plain": [
       "(10, 10, '[#6]1(-[#6]):[#6]:[#6](-[#8]-[#6]):[#6](:[#6]:[#6]:1)-[#8]')"
      ]
     },
     "execution_count": 163,
     "metadata": {},
     "output_type": "execute_result"
    }
   ],
   "source": [
    "from rdkit.Chem import rdFMCS\n",
    "mol1 = Chem.MolFromSmiles(\"O=C(NCc1cc(OC)c(O)cc1)CCCC/C=C/C(C)C\")\n",
    "mol2 = Chem.MolFromSmiles(\"CC(C)CCCCCC(=O)NCC1=CC(=C(C=C1)O)OC\")\n",
    "mol3 = Chem.MolFromSmiles(\"c1(C=O)cc(OC)c(O)cc1\")\n",
    "mols = [mol1,mol2,mol3]\n",
    "res = rdFMCS.FindMCS(mols)\n",
    "res.numAtoms, res.numBonds, res.smartsString"
   ]
  },
  {
   "cell_type": "code",
   "execution_count": 174,
   "metadata": {},
   "outputs": [
    {
     "data": {
      "image/svg+xml": [
       "<svg baseProfile=\"full\" height=\"300px\" version=\"1.1\" viewBox=\"0 0 900 300\" width=\"900px\" xml:space=\"preserve\" xmlns=\"http://www.w3.org/2000/svg\" xmlns:rdkit=\"http://www.rdkit.org/xml\" xmlns:xlink=\"http://www.w3.org/1999/xlink\">\n",
       "<!-- END OF HEADER -->\n",
       "<rect height=\"300\" style=\"opacity:1.0;fill:#FFFFFF;stroke:none\" width=\"900\" x=\"0\" y=\"0\"> </rect>\n",
       "<rect height=\"300\" style=\"opacity:1.0;fill:#FFFFFF;stroke:none\" width=\"900\" x=\"0\" y=\"0\"> </rect>\n",
       "<rect height=\"300\" style=\"opacity:1.0;fill:#FFFFFF;stroke:none\" width=\"900\" x=\"0\" y=\"0\"> </rect>\n",
       "<rect height=\"300\" style=\"opacity:1.0;fill:#FFFFFF;stroke:none\" width=\"900\" x=\"0\" y=\"0\"> </rect>\n",
       "<path class=\"bond-0\" d=\"M 160.853,189.264 L 161.971,180.418\" style=\"fill:none;fill-rule:evenodd;stroke:#FF0000;stroke-width:2px;stroke-linecap:butt;stroke-linejoin:miter;stroke-opacity:1\"/>\n",
       "<path class=\"bond-0\" d=\"M 161.971,180.418 L 163.09,171.572\" style=\"fill:none;fill-rule:evenodd;stroke:#000000;stroke-width:2px;stroke-linecap:butt;stroke-linejoin:miter;stroke-opacity:1\"/>\n",
       "<path class=\"bond-0\" d=\"M 156.6,188.727 L 157.718,179.88\" style=\"fill:none;fill-rule:evenodd;stroke:#FF0000;stroke-width:2px;stroke-linecap:butt;stroke-linejoin:miter;stroke-opacity:1\"/>\n",
       "<path class=\"bond-0\" d=\"M 157.718,179.88 L 158.837,171.034\" style=\"fill:none;fill-rule:evenodd;stroke:#000000;stroke-width:2px;stroke-linecap:butt;stroke-linejoin:miter;stroke-opacity:1\"/>\n",
       "<path class=\"bond-1\" d=\"M 160.963,171.303 L 169.295,167.801\" style=\"fill:none;fill-rule:evenodd;stroke:#000000;stroke-width:2px;stroke-linecap:butt;stroke-linejoin:miter;stroke-opacity:1\"/>\n",
       "<path class=\"bond-1\" d=\"M 169.295,167.801 L 177.627,164.3\" style=\"fill:none;fill-rule:evenodd;stroke:#0000FF;stroke-width:2px;stroke-linecap:butt;stroke-linejoin:miter;stroke-opacity:1\"/>\n",
       "<path class=\"bond-12\" d=\"M 160.963,171.303 L 143.891,158.343\" style=\"fill:none;fill-rule:evenodd;stroke:#000000;stroke-width:2px;stroke-linecap:butt;stroke-linejoin:miter;stroke-opacity:1\"/>\n",
       "<path class=\"bond-2\" d=\"M 183.819,165.349 L 190.807,170.654\" style=\"fill:none;fill-rule:evenodd;stroke:#0000FF;stroke-width:2px;stroke-linecap:butt;stroke-linejoin:miter;stroke-opacity:1\"/>\n",
       "<path class=\"bond-2\" d=\"M 190.807,170.654 L 197.795,175.959\" style=\"fill:none;fill-rule:evenodd;stroke:#000000;stroke-width:2px;stroke-linecap:butt;stroke-linejoin:miter;stroke-opacity:1\"/>\n",
       "<path class=\"bond-3\" d=\"M 197.795,175.959 L 217.555,167.654\" style=\"fill:none;fill-rule:evenodd;stroke:#000000;stroke-width:2px;stroke-linecap:butt;stroke-linejoin:miter;stroke-opacity:1\"/>\n",
       "<path class=\"bond-4\" d=\"M 217.555,167.654 L 220.243,146.39\" style=\"fill:none;fill-rule:evenodd;stroke:#000000;stroke-width:2px;stroke-linecap:butt;stroke-linejoin:miter;stroke-opacity:1\"/>\n",
       "<path class=\"bond-4\" d=\"M 222.211,165.002 L 224.093,150.117\" style=\"fill:none;fill-rule:evenodd;stroke:#000000;stroke-width:2px;stroke-linecap:butt;stroke-linejoin:miter;stroke-opacity:1\"/>\n",
       "<path class=\"bond-21\" d=\"M 217.555,167.654 L 234.627,180.615\" style=\"fill:none;fill-rule:evenodd;stroke:#000000;stroke-width:2px;stroke-linecap:butt;stroke-linejoin:miter;stroke-opacity:1\"/>\n",
       "<path class=\"bond-5\" d=\"M 220.243,146.39 L 240.003,138.085\" style=\"fill:none;fill-rule:evenodd;stroke:#000000;stroke-width:2px;stroke-linecap:butt;stroke-linejoin:miter;stroke-opacity:1\"/>\n",
       "<path class=\"bond-6\" d=\"M 240.003,138.085 L 241.121,129.239\" style=\"fill:none;fill-rule:evenodd;stroke:#000000;stroke-width:2px;stroke-linecap:butt;stroke-linejoin:miter;stroke-opacity:1\"/>\n",
       "<path class=\"bond-6\" d=\"M 241.121,129.239 L 242.239,120.393\" style=\"fill:none;fill-rule:evenodd;stroke:#FF0000;stroke-width:2px;stroke-linecap:butt;stroke-linejoin:miter;stroke-opacity:1\"/>\n",
       "<path class=\"bond-8\" d=\"M 240.003,138.085 L 257.075,151.046\" style=\"fill:none;fill-rule:evenodd;stroke:#000000;stroke-width:2px;stroke-linecap:butt;stroke-linejoin:miter;stroke-opacity:1\"/>\n",
       "<path class=\"bond-8\" d=\"M 239.972,143.444 L 251.922,152.516\" style=\"fill:none;fill-rule:evenodd;stroke:#000000;stroke-width:2px;stroke-linecap:butt;stroke-linejoin:miter;stroke-opacity:1\"/>\n",
       "<path class=\"bond-7\" d=\"M 239.354,114.287 L 232.487,109.074\" style=\"fill:none;fill-rule:evenodd;stroke:#FF0000;stroke-width:2px;stroke-linecap:butt;stroke-linejoin:miter;stroke-opacity:1\"/>\n",
       "<path class=\"bond-7\" d=\"M 232.487,109.074 L 225.619,103.86\" style=\"fill:none;fill-rule:evenodd;stroke:#000000;stroke-width:2px;stroke-linecap:butt;stroke-linejoin:miter;stroke-opacity:1\"/>\n",
       "<path class=\"bond-9\" d=\"M 257.075,151.046 L 265.286,147.594\" style=\"fill:none;fill-rule:evenodd;stroke:#000000;stroke-width:2px;stroke-linecap:butt;stroke-linejoin:miter;stroke-opacity:1\"/>\n",
       "<path class=\"bond-9\" d=\"M 265.286,147.594 L 273.498,144.143\" style=\"fill:none;fill-rule:evenodd;stroke:#FF0000;stroke-width:2px;stroke-linecap:butt;stroke-linejoin:miter;stroke-opacity:1\"/>\n",
       "<path class=\"bond-10\" d=\"M 257.075,151.046 L 254.387,172.31\" style=\"fill:none;fill-rule:evenodd;stroke:#000000;stroke-width:2px;stroke-linecap:butt;stroke-linejoin:miter;stroke-opacity:1\"/>\n",
       "<path class=\"bond-11\" d=\"M 254.387,172.31 L 234.627,180.615\" style=\"fill:none;fill-rule:evenodd;stroke:#000000;stroke-width:2px;stroke-linecap:butt;stroke-linejoin:miter;stroke-opacity:1\"/>\n",
       "<path class=\"bond-11\" d=\"M 249.762,169.604 L 235.93,175.417\" style=\"fill:none;fill-rule:evenodd;stroke:#000000;stroke-width:2px;stroke-linecap:butt;stroke-linejoin:miter;stroke-opacity:1\"/>\n",
       "<path class=\"bond-13\" d=\"M 143.891,158.343 L 124.131,166.647\" style=\"fill:none;fill-rule:evenodd;stroke:#000000;stroke-width:2px;stroke-linecap:butt;stroke-linejoin:miter;stroke-opacity:1\"/>\n",
       "<path class=\"bond-14\" d=\"M 124.131,166.647 L 107.06,153.687\" style=\"fill:none;fill-rule:evenodd;stroke:#000000;stroke-width:2px;stroke-linecap:butt;stroke-linejoin:miter;stroke-opacity:1\"/>\n",
       "<path class=\"bond-15\" d=\"M 107.06,153.687 L 87.2998,161.991\" style=\"fill:none;fill-rule:evenodd;stroke:#000000;stroke-width:2px;stroke-linecap:butt;stroke-linejoin:miter;stroke-opacity:1\"/>\n",
       "<path class=\"bond-16\" d=\"M 87.2998,161.991 L 70.228,149.031\" style=\"fill:none;fill-rule:evenodd;stroke:#000000;stroke-width:2px;stroke-linecap:butt;stroke-linejoin:miter;stroke-opacity:1\"/>\n",
       "<path class=\"bond-17\" d=\"M 70.228,149.031 L 50.4681,157.335\" style=\"fill:none;fill-rule:evenodd;stroke:#000000;stroke-width:2px;stroke-linecap:butt;stroke-linejoin:miter;stroke-opacity:1\"/>\n",
       "<path class=\"bond-17\" d=\"M 68.9249,154.228 L 55.0929,160.041\" style=\"fill:none;fill-rule:evenodd;stroke:#000000;stroke-width:2px;stroke-linecap:butt;stroke-linejoin:miter;stroke-opacity:1\"/>\n",
       "<path class=\"bond-18\" d=\"M 50.4681,157.335 L 33.3963,144.375\" style=\"fill:none;fill-rule:evenodd;stroke:#000000;stroke-width:2px;stroke-linecap:butt;stroke-linejoin:miter;stroke-opacity:1\"/>\n",
       "<path class=\"bond-19\" d=\"M 33.3963,144.375 L 13.6364,152.679\" style=\"fill:none;fill-rule:evenodd;stroke:#000000;stroke-width:2px;stroke-linecap:butt;stroke-linejoin:miter;stroke-opacity:1\"/>\n",
       "<path class=\"bond-20\" d=\"M 33.3963,144.375 L 36.0844,123.11\" style=\"fill:none;fill-rule:evenodd;stroke:#000000;stroke-width:2px;stroke-linecap:butt;stroke-linejoin:miter;stroke-opacity:1\"/>\n",
       "<text dominant-baseline=\"central\" style=\"font-size:7px;font-style:normal;font-weight:normal;fill-opacity:1;stroke:none;font-family:sans-serif;fill:#FF0000\" text-anchor=\"start\" x=\"155.653\" y=\"193.639\"><tspan>O</tspan></text>\n",
       "<text dominant-baseline=\"central\" style=\"font-size:7px;font-style:normal;font-weight:normal;fill-opacity:1;stroke:none;font-family:sans-serif;fill:#0000FF\" text-anchor=\"middle\" x=\"180.723\" y=\"164.07\"><tspan>N</tspan></text>\n",
       "<text dominant-baseline=\"central\" style=\"font-size:7px;font-style:normal;font-weight:normal;fill-opacity:1;stroke:none;font-family:sans-serif;fill:#0000FF\" text-anchor=\"start\" x=\"178.341\" y=\"156.925\"><tspan>H</tspan></text>\n",
       "<text dominant-baseline=\"central\" style=\"font-size:7px;font-style:normal;font-weight:normal;fill-opacity:1;stroke:none;font-family:sans-serif;fill:#FF0000\" text-anchor=\"start\" x=\"240.069\" y=\"117.892\"><tspan>O</tspan></text>\n",
       "<text dominant-baseline=\"central\" style=\"font-size:7px;font-style:normal;font-weight:normal;fill-opacity:1;stroke:none;font-family:sans-serif;fill:#FF0000\" text-anchor=\"start\" x=\"274.213\" y=\"143.813\"><tspan>OH</tspan></text>\n",
       "<path class=\"bond-0\" d=\"M 326.919,133.022 L 343.121,147.054\" style=\"fill:none;fill-rule:evenodd;stroke:#000000;stroke-width:2px;stroke-linecap:butt;stroke-linejoin:miter;stroke-opacity:1\"/>\n",
       "<path class=\"bond-1\" d=\"M 343.121,147.054 L 339.071,168.102\" style=\"fill:none;fill-rule:evenodd;stroke:#000000;stroke-width:2px;stroke-linecap:butt;stroke-linejoin:miter;stroke-opacity:1\"/>\n",
       "<path class=\"bond-2\" d=\"M 343.121,147.054 L 363.375,140.038\" style=\"fill:none;fill-rule:evenodd;stroke:#000000;stroke-width:2px;stroke-linecap:butt;stroke-linejoin:miter;stroke-opacity:1\"/>\n",
       "<path class=\"bond-3\" d=\"M 363.375,140.038 L 379.577,154.07\" style=\"fill:none;fill-rule:evenodd;stroke:#000000;stroke-width:2px;stroke-linecap:butt;stroke-linejoin:miter;stroke-opacity:1\"/>\n",
       "<path class=\"bond-4\" d=\"M 379.577,154.07 L 399.83,147.054\" style=\"fill:none;fill-rule:evenodd;stroke:#000000;stroke-width:2px;stroke-linecap:butt;stroke-linejoin:miter;stroke-opacity:1\"/>\n",
       "<path class=\"bond-5\" d=\"M 399.83,147.054 L 416.033,161.086\" style=\"fill:none;fill-rule:evenodd;stroke:#000000;stroke-width:2px;stroke-linecap:butt;stroke-linejoin:miter;stroke-opacity:1\"/>\n",
       "<path class=\"bond-6\" d=\"M 416.033,161.086 L 436.286,154.07\" style=\"fill:none;fill-rule:evenodd;stroke:#000000;stroke-width:2px;stroke-linecap:butt;stroke-linejoin:miter;stroke-opacity:1\"/>\n",
       "<path class=\"bond-7\" d=\"M 436.286,154.07 L 452.489,168.102\" style=\"fill:none;fill-rule:evenodd;stroke:#000000;stroke-width:2px;stroke-linecap:butt;stroke-linejoin:miter;stroke-opacity:1\"/>\n",
       "<path class=\"bond-8\" d=\"M 450.384,167.697 L 448.703,176.435\" style=\"fill:none;fill-rule:evenodd;stroke:#000000;stroke-width:2px;stroke-linecap:butt;stroke-linejoin:miter;stroke-opacity:1\"/>\n",
       "<path class=\"bond-8\" d=\"M 448.703,176.435 L 447.021,185.173\" style=\"fill:none;fill-rule:evenodd;stroke:#FF0000;stroke-width:2px;stroke-linecap:butt;stroke-linejoin:miter;stroke-opacity:1\"/>\n",
       "<path class=\"bond-8\" d=\"M 454.594,168.507 L 452.912,177.245\" style=\"fill:none;fill-rule:evenodd;stroke:#000000;stroke-width:2px;stroke-linecap:butt;stroke-linejoin:miter;stroke-opacity:1\"/>\n",
       "<path class=\"bond-8\" d=\"M 452.912,177.245 L 451.231,185.983\" style=\"fill:none;fill-rule:evenodd;stroke:#FF0000;stroke-width:2px;stroke-linecap:butt;stroke-linejoin:miter;stroke-opacity:1\"/>\n",
       "<path class=\"bond-9\" d=\"M 452.489,168.102 L 461.067,165.13\" style=\"fill:none;fill-rule:evenodd;stroke:#000000;stroke-width:2px;stroke-linecap:butt;stroke-linejoin:miter;stroke-opacity:1\"/>\n",
       "<path class=\"bond-9\" d=\"M 461.067,165.13 L 469.646,162.159\" style=\"fill:none;fill-rule:evenodd;stroke:#0000FF;stroke-width:2px;stroke-linecap:butt;stroke-linejoin:miter;stroke-opacity:1\"/>\n",
       "<path class=\"bond-10\" d=\"M 475.838,163.768 L 482.392,169.443\" style=\"fill:none;fill-rule:evenodd;stroke:#0000FF;stroke-width:2px;stroke-linecap:butt;stroke-linejoin:miter;stroke-opacity:1\"/>\n",
       "<path class=\"bond-10\" d=\"M 482.392,169.443 L 488.945,175.118\" style=\"fill:none;fill-rule:evenodd;stroke:#000000;stroke-width:2px;stroke-linecap:butt;stroke-linejoin:miter;stroke-opacity:1\"/>\n",
       "<path class=\"bond-11\" d=\"M 488.945,175.118 L 509.198,168.102\" style=\"fill:none;fill-rule:evenodd;stroke:#000000;stroke-width:2px;stroke-linecap:butt;stroke-linejoin:miter;stroke-opacity:1\"/>\n",
       "<path class=\"bond-12\" d=\"M 509.198,168.102 L 513.249,147.054\" style=\"fill:none;fill-rule:evenodd;stroke:#000000;stroke-width:2px;stroke-linecap:butt;stroke-linejoin:miter;stroke-opacity:1\"/>\n",
       "<path class=\"bond-12\" d=\"M 514.015,165.755 L 516.851,151.022\" style=\"fill:none;fill-rule:evenodd;stroke:#000000;stroke-width:2px;stroke-linecap:butt;stroke-linejoin:miter;stroke-opacity:1\"/>\n",
       "<path class=\"bond-20\" d=\"M 509.198,168.102 L 525.401,182.134\" style=\"fill:none;fill-rule:evenodd;stroke:#000000;stroke-width:2px;stroke-linecap:butt;stroke-linejoin:miter;stroke-opacity:1\"/>\n",
       "<path class=\"bond-13\" d=\"M 513.249,147.054 L 533.502,140.038\" style=\"fill:none;fill-rule:evenodd;stroke:#000000;stroke-width:2px;stroke-linecap:butt;stroke-linejoin:miter;stroke-opacity:1\"/>\n",
       "<path class=\"bond-14\" d=\"M 533.502,140.038 L 549.705,154.07\" style=\"fill:none;fill-rule:evenodd;stroke:#000000;stroke-width:2px;stroke-linecap:butt;stroke-linejoin:miter;stroke-opacity:1\"/>\n",
       "<path class=\"bond-14\" d=\"M 533.126,145.384 L 544.468,155.206\" style=\"fill:none;fill-rule:evenodd;stroke:#000000;stroke-width:2px;stroke-linecap:butt;stroke-linejoin:miter;stroke-opacity:1\"/>\n",
       "<path class=\"bond-18\" d=\"M 533.502,140.038 L 535.183,131.301\" style=\"fill:none;fill-rule:evenodd;stroke:#000000;stroke-width:2px;stroke-linecap:butt;stroke-linejoin:miter;stroke-opacity:1\"/>\n",
       "<path class=\"bond-18\" d=\"M 535.183,131.301 L 536.865,122.563\" style=\"fill:none;fill-rule:evenodd;stroke:#FF0000;stroke-width:2px;stroke-linecap:butt;stroke-linejoin:miter;stroke-opacity:1\"/>\n",
       "<path class=\"bond-15\" d=\"M 549.705,154.07 L 545.654,175.118\" style=\"fill:none;fill-rule:evenodd;stroke:#000000;stroke-width:2px;stroke-linecap:butt;stroke-linejoin:miter;stroke-opacity:1\"/>\n",
       "<path class=\"bond-17\" d=\"M 549.705,154.07 L 558.163,151.14\" style=\"fill:none;fill-rule:evenodd;stroke:#000000;stroke-width:2px;stroke-linecap:butt;stroke-linejoin:miter;stroke-opacity:1\"/>\n",
       "<path class=\"bond-17\" d=\"M 558.163,151.14 L 566.621,148.21\" style=\"fill:none;fill-rule:evenodd;stroke:#FF0000;stroke-width:2px;stroke-linecap:butt;stroke-linejoin:miter;stroke-opacity:1\"/>\n",
       "<path class=\"bond-16\" d=\"M 545.654,175.118 L 525.401,182.134\" style=\"fill:none;fill-rule:evenodd;stroke:#000000;stroke-width:2px;stroke-linecap:butt;stroke-linejoin:miter;stroke-opacity:1\"/>\n",
       "<path class=\"bond-16\" d=\"M 541.213,172.12 L 527.035,177.031\" style=\"fill:none;fill-rule:evenodd;stroke:#000000;stroke-width:2px;stroke-linecap:butt;stroke-linejoin:miter;stroke-opacity:1\"/>\n",
       "<path class=\"bond-19\" d=\"M 534.216,116.101 L 527.783,110.53\" style=\"fill:none;fill-rule:evenodd;stroke:#FF0000;stroke-width:2px;stroke-linecap:butt;stroke-linejoin:miter;stroke-opacity:1\"/>\n",
       "<path class=\"bond-19\" d=\"M 527.783,110.53 L 521.35,104.959\" style=\"fill:none;fill-rule:evenodd;stroke:#000000;stroke-width:2px;stroke-linecap:butt;stroke-linejoin:miter;stroke-opacity:1\"/>\n",
       "<text dominant-baseline=\"central\" style=\"font-size:7px;font-style:normal;font-weight:normal;fill-opacity:1;stroke:none;font-family:sans-serif;fill:#FF0000\" text-anchor=\"start\" x=\"445.816\" y=\"190.222\"><tspan>O</tspan></text>\n",
       "<text dominant-baseline=\"central\" style=\"font-size:7px;font-style:normal;font-weight:normal;fill-opacity:1;stroke:none;font-family:sans-serif;fill:#0000FF\" text-anchor=\"middle\" x=\"472.742\" y=\"162.158\"><tspan>N</tspan></text>\n",
       "<text dominant-baseline=\"central\" style=\"font-size:7px;font-style:normal;font-weight:normal;fill-opacity:1;stroke:none;font-family:sans-serif;fill:#0000FF\" text-anchor=\"start\" x=\"470.36\" y=\"155.013\"><tspan>H</tspan></text>\n",
       "<text dominant-baseline=\"central\" style=\"font-size:7px;font-style:normal;font-weight:normal;fill-opacity:1;stroke:none;font-family:sans-serif;fill:#FF0000\" text-anchor=\"start\" x=\"567.336\" y=\"148.126\"><tspan>OH</tspan></text>\n",
       "<text dominant-baseline=\"central\" style=\"font-size:7px;font-style:normal;font-weight:normal;fill-opacity:1;stroke:none;font-family:sans-serif;fill:#FF0000\" text-anchor=\"start\" x=\"534.931\" y=\"120.062\"><tspan>O</tspan></text>\n",
       "<path class=\"bond-0\" d=\"M 781.537,147.479 L 802.646,151.196\" style=\"fill:none;fill-rule:evenodd;stroke:#000000;stroke-width:2px;stroke-linecap:butt;stroke-linejoin:miter;stroke-opacity:1\"/>\n",
       "<path class=\"bond-2\" d=\"M 781.537,147.479 L 767.762,163.901\" style=\"fill:none;fill-rule:evenodd;stroke:#000000;stroke-width:2px;stroke-linecap:butt;stroke-linejoin:miter;stroke-opacity:1\"/>\n",
       "<path class=\"bond-2\" d=\"M 776.186,147.187 L 766.544,158.683\" style=\"fill:none;fill-rule:evenodd;stroke:#000000;stroke-width:2px;stroke-linecap:butt;stroke-linejoin:miter;stroke-opacity:1\"/>\n",
       "<path class=\"bond-10\" d=\"M 781.537,147.479 L 774.202,127.339\" style=\"fill:none;fill-rule:evenodd;stroke:#000000;stroke-width:2px;stroke-linecap:butt;stroke-linejoin:miter;stroke-opacity:1\"/>\n",
       "<path class=\"bond-1\" d=\"M 800.632,151.93 L 803.649,160.214\" style=\"fill:none;fill-rule:evenodd;stroke:#000000;stroke-width:2px;stroke-linecap:butt;stroke-linejoin:miter;stroke-opacity:1\"/>\n",
       "<path class=\"bond-1\" d=\"M 803.649,160.214 L 806.666,168.497\" style=\"fill:none;fill-rule:evenodd;stroke:#FF0000;stroke-width:2px;stroke-linecap:butt;stroke-linejoin:miter;stroke-opacity:1\"/>\n",
       "<path class=\"bond-1\" d=\"M 804.66,150.463 L 807.677,158.747\" style=\"fill:none;fill-rule:evenodd;stroke:#000000;stroke-width:2px;stroke-linecap:butt;stroke-linejoin:miter;stroke-opacity:1\"/>\n",
       "<path class=\"bond-1\" d=\"M 807.677,158.747 L 810.694,167.03\" style=\"fill:none;fill-rule:evenodd;stroke:#FF0000;stroke-width:2px;stroke-linecap:butt;stroke-linejoin:miter;stroke-opacity:1\"/>\n",
       "<path class=\"bond-3\" d=\"M 767.762,163.901 L 746.653,160.183\" style=\"fill:none;fill-rule:evenodd;stroke:#000000;stroke-width:2px;stroke-linecap:butt;stroke-linejoin:miter;stroke-opacity:1\"/>\n",
       "<path class=\"bond-4\" d=\"M 746.653,160.183 L 741.264,166.608\" style=\"fill:none;fill-rule:evenodd;stroke:#000000;stroke-width:2px;stroke-linecap:butt;stroke-linejoin:miter;stroke-opacity:1\"/>\n",
       "<path class=\"bond-4\" d=\"M 741.264,166.608 L 735.875,173.033\" style=\"fill:none;fill-rule:evenodd;stroke:#FF0000;stroke-width:2px;stroke-linecap:butt;stroke-linejoin:miter;stroke-opacity:1\"/>\n",
       "<path class=\"bond-6\" d=\"M 746.653,160.183 L 739.318,140.043\" style=\"fill:none;fill-rule:evenodd;stroke:#000000;stroke-width:2px;stroke-linecap:butt;stroke-linejoin:miter;stroke-opacity:1\"/>\n",
       "<path class=\"bond-6\" d=\"M 749.581,155.695 L 744.446,141.597\" style=\"fill:none;fill-rule:evenodd;stroke:#000000;stroke-width:2px;stroke-linecap:butt;stroke-linejoin:miter;stroke-opacity:1\"/>\n",
       "<path class=\"bond-5\" d=\"M 734.18,180.177 L 737.197,188.461\" style=\"fill:none;fill-rule:evenodd;stroke:#FF0000;stroke-width:2px;stroke-linecap:butt;stroke-linejoin:miter;stroke-opacity:1\"/>\n",
       "<path class=\"bond-5\" d=\"M 737.197,188.461 L 740.214,196.745\" style=\"fill:none;fill-rule:evenodd;stroke:#000000;stroke-width:2px;stroke-linecap:butt;stroke-linejoin:miter;stroke-opacity:1\"/>\n",
       "<path class=\"bond-7\" d=\"M 739.318,140.043 L 730.312,138.457\" style=\"fill:none;fill-rule:evenodd;stroke:#000000;stroke-width:2px;stroke-linecap:butt;stroke-linejoin:miter;stroke-opacity:1\"/>\n",
       "<path class=\"bond-7\" d=\"M 730.312,138.457 L 721.305,136.871\" style=\"fill:none;fill-rule:evenodd;stroke:#FF0000;stroke-width:2px;stroke-linecap:butt;stroke-linejoin:miter;stroke-opacity:1\"/>\n",
       "<path class=\"bond-8\" d=\"M 739.318,140.043 L 753.092,123.621\" style=\"fill:none;fill-rule:evenodd;stroke:#000000;stroke-width:2px;stroke-linecap:butt;stroke-linejoin:miter;stroke-opacity:1\"/>\n",
       "<path class=\"bond-9\" d=\"M 753.092,123.621 L 774.202,127.339\" style=\"fill:none;fill-rule:evenodd;stroke:#000000;stroke-width:2px;stroke-linecap:butt;stroke-linejoin:miter;stroke-opacity:1\"/>\n",
       "<path class=\"bond-9\" d=\"M 755.515,128.4 L 770.292,131.003\" style=\"fill:none;fill-rule:evenodd;stroke:#000000;stroke-width:2px;stroke-linecap:butt;stroke-linejoin:miter;stroke-opacity:1\"/>\n",
       "<text dominant-baseline=\"central\" style=\"font-size:7px;font-style:normal;font-weight:normal;fill-opacity:1;stroke:none;font-family:sans-serif;fill:#FF0000\" text-anchor=\"start\" x=\"807.359\" y=\"172.408\"><tspan>O</tspan></text>\n",
       "<text dominant-baseline=\"central\" style=\"font-size:7px;font-style:normal;font-weight:normal;fill-opacity:1;stroke:none;font-family:sans-serif;fill:#FF0000\" text-anchor=\"end\" x=\"735.501\" y=\"177.677\"><tspan>O</tspan></text>\n",
       "<text dominant-baseline=\"central\" style=\"font-size:7px;font-style:normal;font-weight:normal;fill-opacity:1;stroke:none;font-family:sans-serif;fill:#FF0000\" text-anchor=\"end\" x=\"720.831\" y=\"137.397\"><tspan>HO</tspan></text>\n",
       "</svg>"
      ],
      "text/plain": [
       "<IPython.core.display.SVG object>"
      ]
     },
     "execution_count": 174,
     "metadata": {},
     "output_type": "execute_result"
    }
   ],
   "source": [
    "Draw.MolsToGridImage([mol1, mol2, mol3], subImgSize=(300, 300), useSVG=True)"
   ]
  },
  {
   "cell_type": "code",
   "execution_count": 164,
   "metadata": {},
   "outputs": [
    {
     "data": {
      "image/png": "[encoded data removed]",
      "text/plain": [
       "<rdkit.Chem.rdchem.Mol at 0x1957f6a3350>"
      ]
     },
     "execution_count": 164,
     "metadata": {},
     "output_type": "execute_result"
    }
   ],
   "source": [
    "Chem.MolFromSmarts(res.smartsString)"
   ]
  },
  {
   "cell_type": "markdown",
   "metadata": {},
   "source": [
    "### Fingerprinting and Molecular Similarity¶\n",
    "![](https://www.researchgate.net/profile/Dong-Sheng_Cao/publication/235919348/figure/fig1/AS:299748008448007@1448476902809/Representation-of-a-molecular-substructure-fingerprint-with-a-substructure-fingerprint.png)"
   ]
  },
  {
   "cell_type": "markdown",
   "metadata": {},
   "source": [
    "#### Topological Fingerprints\n",
    "* Topological paths between pairs of atoms on a specified distance (defaults: min 1, max 7)\n",
    "* Substructure fingerprint "
   ]
  },
  {
   "cell_type": "code",
   "execution_count": 175,
   "metadata": {},
   "outputs": [
    {
     "data": {
      "text/plain": [
       "0.6"
      ]
     },
     "execution_count": 175,
     "metadata": {},
     "output_type": "execute_result"
    }
   ],
   "source": [
    "from rdkit import DataStructs\n",
    "ms = [Chem.MolFromSmiles('CCOC'), Chem.MolFromSmiles('CCO'), Chem.MolFromSmiles('COC')]\n",
    "fps = [Chem.RDKFingerprint(x) for x in ms]\n",
    "DataStructs.FingerprintSimilarity(fps[0], fps[1])"
   ]
  },
  {
   "cell_type": "markdown",
   "metadata": {},
   "source": [
    "#### Morgan (Circular Fingerprints)\n",
    "* Circular topological fingerprints \n",
    "* Similarity fingerprint "
   ]
  },
  {
   "cell_type": "code",
   "execution_count": 114,
   "metadata": {},
   "outputs": [
    {
     "data": {
      "text/plain": [
       "0.55"
      ]
     },
     "execution_count": 114,
     "metadata": {},
     "output_type": "execute_result"
    }
   ],
   "source": [
    "m1 = Chem.MolFromSmiles('Cc1ccccc1')\n",
    "fp1 = AllChem.GetMorganFingerprint(m1,2)\n",
    "m2 = Chem.MolFromSmiles('Cc1ncccc1')\n",
    "fp2 = AllChem.GetMorganFingerprint(m2,2)\n",
    "DataStructs.DiceSimilarity(fp1,fp2)"
   ]
  },
  {
   "cell_type": "markdown",
   "metadata": {},
   "source": [
    "To measure similarity between molecules, the following metrics could be used: Tanimoto, Dice, Cosine, Sokal, Russel, Kulczynski, McConnaughey, and Tversky"
   ]
  },
  {
   "cell_type": "markdown",
   "metadata": {},
   "source": [
    "#### Drawing images of fingerprints\n",
    "The default highlight colors for the Morgan bits indicate:\n",
    "    \n",
    "    blue: the central atom in the environment\n",
    "\n",
    "    yellow: aromatic atoms\n",
    "\n",
    "    gray: aliphatic ring atoms\n",
    "\n",
    "The default highlight colors for the RDKit bits indicate:\n",
    "\n",
    "    yellow: aromatic atoms"
   ]
  },
  {
   "cell_type": "code",
   "execution_count": 123,
   "metadata": {},
   "outputs": [
    {
     "data": {
      "image/svg+xml": [
       "<svg baseProfile=\"full\" height=\"150px\" version=\"1.1\" viewBox=\"0 0 150 150\" width=\"150px\" xml:space=\"preserve\" xmlns=\"http://www.w3.org/2000/svg\" xmlns:rdkit=\"http://www.rdkit.org/xml\" xmlns:xlink=\"http://www.w3.org/1999/xlink\">\n",
       "<!-- END OF HEADER -->\n",
       "<rect height=\"150\" style=\"opacity:1.0;fill:#FFFFFF;stroke:none\" width=\"150\" x=\"0\" y=\"0\"> </rect>\n",
       "<ellipse cx=\"55.9881\" cy=\"92.3437\" rx=\"5.77835\" ry=\"5.77835\" style=\"fill:#E5E533;fill-rule:evenodd;stroke:#E5E533;stroke-width:2px;stroke-linecap:butt;stroke-linejoin:miter;stroke-opacity:1\"/>\n",
       "<ellipse cx=\"35.4002\" cy=\"46.7329\" rx=\"5.77835\" ry=\"5.77835\" style=\"fill:#E5E533;fill-rule:evenodd;stroke:#E5E533;stroke-width:2px;stroke-linecap:butt;stroke-linejoin:miter;stroke-opacity:1\"/>\n",
       "<ellipse cx=\"58.8609\" cy=\"63.5951\" rx=\"5.77835\" ry=\"5.77835\" style=\"fill:#E5E533;fill-rule:evenodd;stroke:#E5E533;stroke-width:2px;stroke-linecap:butt;stroke-linejoin:miter;stroke-opacity:1\"/>\n",
       "<ellipse cx=\"85.1943\" cy=\"51.7087\" rx=\"5.77835\" ry=\"5.77835\" style=\"fill:#9999E5;fill-rule:evenodd;stroke:#9999E5;stroke-width:2px;stroke-linecap:butt;stroke-linejoin:miter;stroke-opacity:1\"/>\n",
       "<ellipse cx=\"108.655\" cy=\"68.5709\" rx=\"5.77835\" ry=\"5.77835\" style=\"fill:#CCCCCC;fill-rule:evenodd;stroke:#CCCCCC;stroke-width:2px;stroke-linecap:butt;stroke-linejoin:miter;stroke-opacity:1\"/>\n",
       "<ellipse cx=\"137.403\" cy=\"71.4437\" rx=\"5.77835\" ry=\"5.77835\" style=\"fill:#CCCCCC;fill-rule:evenodd;stroke:#CCCCCC;stroke-width:2px;stroke-linecap:butt;stroke-linejoin:miter;stroke-opacity:1\"/>\n",
       "<ellipse cx=\"120.541\" cy=\"94.9043\" rx=\"5.77835\" ry=\"5.77835\" style=\"fill:#CCCCCC;fill-rule:evenodd;stroke:#CCCCCC;stroke-width:2px;stroke-linecap:butt;stroke-linejoin:miter;stroke-opacity:1\"/>\n",
       "<path class=\"bond-0\" d=\"M 54.7995,89.7104 L 30.7148,100.582\" style=\"fill:none;fill-rule:evenodd;stroke:#E5E5E5;stroke-width:2px;stroke-linecap:butt;stroke-linejoin:miter;stroke-opacity:1\"/>\n",
       "<path class=\"bond-0\" d=\"M 57.1767,94.977 L 33.092,105.848\" style=\"fill:none;fill-rule:evenodd;stroke:#E5E5E5;stroke-width:2px;stroke-linecap:butt;stroke-linejoin:miter;stroke-opacity:1;stroke-dasharray:6,6\"/>\n",
       "<path class=\"bond-7\" d=\"M 55.9881,92.3437 L 58.8609,63.5951\" style=\"fill:none;fill-rule:evenodd;stroke:#000000;stroke-width:2px;stroke-linecap:butt;stroke-linejoin:miter;stroke-opacity:1\"/>\n",
       "<path class=\"bond-7\" d=\"M 50.6693,87.4569 L 52.6802,67.3329\" style=\"fill:none;fill-rule:evenodd;stroke:#000000;stroke-width:2px;stroke-linecap:butt;stroke-linejoin:miter;stroke-opacity:1;stroke-dasharray:6,6\"/>\n",
       "<path class=\"bond-1\" d=\"M 12.5042,60.2377 L 36.5889,49.3663\" style=\"fill:none;fill-rule:evenodd;stroke:#E5E5E5;stroke-width:2px;stroke-linecap:butt;stroke-linejoin:miter;stroke-opacity:1\"/>\n",
       "<path class=\"bond-1\" d=\"M 10.1269,54.971 L 34.2116,44.0996\" style=\"fill:none;fill-rule:evenodd;stroke:#E5E5E5;stroke-width:2px;stroke-linecap:butt;stroke-linejoin:miter;stroke-opacity:1;stroke-dasharray:6,6\"/>\n",
       "<path class=\"bond-2\" d=\"M 35.4002,46.7329 L 58.8609,63.5951\" style=\"fill:none;fill-rule:evenodd;stroke:#000000;stroke-width:2px;stroke-linecap:butt;stroke-linejoin:miter;stroke-opacity:1\"/>\n",
       "<path class=\"bond-2\" d=\"M 35.5469,53.9544 L 51.9693,65.7579\" style=\"fill:none;fill-rule:evenodd;stroke:#000000;stroke-width:2px;stroke-linecap:butt;stroke-linejoin:miter;stroke-opacity:1;stroke-dasharray:6,6\"/>\n",
       "<path class=\"bond-3\" d=\"M 58.8609,63.5951 L 85.1943,51.7087\" style=\"fill:none;fill-rule:evenodd;stroke:#000000;stroke-width:2px;stroke-linecap:butt;stroke-linejoin:miter;stroke-opacity:1\"/>\n",
       "<path class=\"bond-4\" d=\"M 85.1943,51.7087 L 108.655,68.5709\" style=\"fill:none;fill-rule:evenodd;stroke:#000000;stroke-width:2px;stroke-linecap:butt;stroke-linejoin:miter;stroke-opacity:1\"/>\n",
       "<path class=\"bond-5\" d=\"M 108.655,68.5709 L 137.403,71.4437\" style=\"fill:none;fill-rule:evenodd;stroke:#000000;stroke-width:2px;stroke-linecap:butt;stroke-linejoin:miter;stroke-opacity:1\"/>\n",
       "<path class=\"bond-8\" d=\"M 108.655,68.5709 L 120.541,94.9043\" style=\"fill:none;fill-rule:evenodd;stroke:#000000;stroke-width:2px;stroke-linecap:butt;stroke-linejoin:miter;stroke-opacity:1\"/>\n",
       "<path class=\"bond-6\" d=\"M 137.403,71.4437 L 120.541,94.9043\" style=\"fill:none;fill-rule:evenodd;stroke:#E5E5E5;stroke-width:2px;stroke-linecap:butt;stroke-linejoin:miter;stroke-opacity:1\"/>\n",
       "<text dominant-baseline=\"central\" style=\"font-size:9px;font-style:normal;font-weight:normal;fill-opacity:1;stroke:none;font-family:sans-serif;fill:#7F7F7F\" text-anchor=\"end\" x=\"30.9403\" y=\"105.675\"><tspan>*</tspan></text>\n",
       "<text dominant-baseline=\"central\" style=\"font-size:9px;font-style:normal;font-weight:normal;fill-opacity:1;stroke:none;font-family:sans-serif;fill:#7F7F7F\" text-anchor=\"end\" x=\"10.3525\" y=\"60.0639\"><tspan>*</tspan></text>\n",
       "</svg>"
      ],
      "text/plain": [
       "<IPython.core.display.SVG object>"
      ]
     },
     "execution_count": 123,
     "metadata": {},
     "output_type": "execute_result"
    }
   ],
   "source": [
    "from rdkit.Chem import Draw\n",
    "mol = Chem.MolFromSmiles('c1ccccc1CC1CC1')\n",
    "bi = {}\n",
    "fp = AllChem.GetMorganFingerprintAsBitVect(mol, radius=2, bitInfo=bi)\n",
    "mfp2_svg = Draw.DrawMorganBit(mol, 872, bi, useSVG=True)\n",
    "mfp2_svg"
   ]
  },
  {
   "cell_type": "code",
   "execution_count": 125,
   "metadata": {},
   "outputs": [
    {
     "data": {
      "image/svg+xml": [
       "<svg baseProfile=\"full\" height=\"150px\" version=\"1.1\" viewBox=\"0 0 150 150\" width=\"150px\" xml:space=\"preserve\" xmlns=\"http://www.w3.org/2000/svg\" xmlns:rdkit=\"http://www.rdkit.org/xml\" xmlns:xlink=\"http://www.w3.org/1999/xlink\">\n",
       "<!-- END OF HEADER -->\n",
       "<rect height=\"150\" style=\"opacity:1.0;fill:#FFFFFF;stroke:none\" width=\"150\" x=\"0\" y=\"0\"> </rect>\n",
       "<ellipse cx=\"96.2046\" cy=\"102.122\" rx=\"9.2943\" ry=\"9.2943\" style=\"fill:#E5E533;fill-rule:evenodd;stroke:#E5E533;stroke-width:2px;stroke-linecap:butt;stroke-linejoin:miter;stroke-opacity:1\"/>\n",
       "<ellipse cx=\"53.8482\" cy=\"121.241\" rx=\"9.2943\" ry=\"9.2943\" style=\"fill:#E5E533;fill-rule:evenodd;stroke:#E5E533;stroke-width:2px;stroke-linecap:butt;stroke-linejoin:miter;stroke-opacity:1\"/>\n",
       "<ellipse cx=\"16.1125\" cy=\"94.1189\" rx=\"9.2943\" ry=\"9.2943\" style=\"fill:#E5E533;fill-rule:evenodd;stroke:#E5E533;stroke-width:2px;stroke-linecap:butt;stroke-linejoin:miter;stroke-opacity:1\"/>\n",
       "<ellipse cx=\"63.0897\" cy=\"28.7588\" rx=\"9.2943\" ry=\"9.2943\" style=\"fill:#E5E533;fill-rule:evenodd;stroke:#E5E533;stroke-width:2px;stroke-linecap:butt;stroke-linejoin:miter;stroke-opacity:1\"/>\n",
       "<ellipse cx=\"100.825\" cy=\"55.8811\" rx=\"9.2943\" ry=\"9.2943\" style=\"fill:#E5E533;fill-rule:evenodd;stroke:#E5E533;stroke-width:2px;stroke-linecap:butt;stroke-linejoin:miter;stroke-opacity:1\"/>\n",
       "<path class=\"bond-0\" d=\"M 96.2046,102.122 L 53.8482,121.241\" style=\"fill:none;fill-rule:evenodd;stroke:#000000;stroke-width:2px;stroke-linecap:butt;stroke-linejoin:miter;stroke-opacity:1\"/>\n",
       "<path class=\"bond-0\" d=\"M 86.0274,96.5188 L 56.3779,109.902\" style=\"fill:none;fill-rule:evenodd;stroke:#000000;stroke-width:2px;stroke-linecap:butt;stroke-linejoin:miter;stroke-opacity:1;stroke-dasharray:6,6\"/>\n",
       "<path class=\"bond-4\" d=\"M 96.2046,102.122 L 100.825,55.8811\" style=\"fill:none;fill-rule:evenodd;stroke:#000000;stroke-width:2px;stroke-linecap:butt;stroke-linejoin:miter;stroke-opacity:1\"/>\n",
       "<path class=\"bond-4\" d=\"M 87.6495,94.262 L 90.884,61.8931\" style=\"fill:none;fill-rule:evenodd;stroke:#000000;stroke-width:2px;stroke-linecap:butt;stroke-linejoin:miter;stroke-opacity:1;stroke-dasharray:6,6\"/>\n",
       "<path class=\"bond-1\" d=\"M 56.5604,117.468 L 18.8247,90.3453\" style=\"fill:none;fill-rule:evenodd;stroke:#000000;stroke-width:2px;stroke-linecap:butt;stroke-linejoin:miter;stroke-opacity:1\"/>\n",
       "<path class=\"bond-1\" d=\"M 51.1359,125.015 L 13.4003,97.8925\" style=\"fill:none;fill-rule:evenodd;stroke:#000000;stroke-width:2px;stroke-linecap:butt;stroke-linejoin:miter;stroke-opacity:1;stroke-dasharray:6,6\"/>\n",
       "<path class=\"bond-2\" d=\"M 60.3775,32.5324 L 98.1131,59.6547\" style=\"fill:none;fill-rule:evenodd;stroke:#000000;stroke-width:2px;stroke-linecap:butt;stroke-linejoin:miter;stroke-opacity:1\"/>\n",
       "<path class=\"bond-2\" d=\"M 65.8019,24.9852 L 103.538,52.1075\" style=\"fill:none;fill-rule:evenodd;stroke:#000000;stroke-width:2px;stroke-linecap:butt;stroke-linejoin:miter;stroke-opacity:1;stroke-dasharray:6,6\"/>\n",
       "<path class=\"bond-3\" d=\"M 100.825,55.8811 L 143.182,36.7622\" style=\"fill:none;fill-rule:evenodd;stroke:#000000;stroke-width:2px;stroke-linecap:butt;stroke-linejoin:miter;stroke-opacity:1\"/>\n",
       "</svg>"
      ],
      "text/plain": [
       "<IPython.core.display.SVG object>"
      ]
     },
     "execution_count": 125,
     "metadata": {},
     "output_type": "execute_result"
    }
   ],
   "source": [
    "rdkbi = {}\n",
    "rdkfp = Chem.RDKFingerprint(mol, maxPath=5, bitInfo=rdkbi)\n",
    "rdk_svg = Draw.DrawRDKitBit(mol, 1553, rdkbi, useSVG=True)\n",
    "rdk_svg"
   ]
  },
  {
   "cell_type": "markdown",
   "metadata": {},
   "source": [
    "## Descriptors\n",
    "https://www.rdkit.org/docs/GettingStartedInPython.html#list-of-available-descriptors"
   ]
  },
  {
   "cell_type": "code",
   "execution_count": 126,
   "metadata": {},
   "outputs": [
    {
     "data": {
      "text/plain": [
       "(37.3, 1.3848)"
      ]
     },
     "execution_count": 126,
     "metadata": {},
     "output_type": "execute_result"
    }
   ],
   "source": [
    "from rdkit.Chem import Descriptors\n",
    "m = Chem.MolFromSmiles('c1ccccc1C(=O)O')\n",
    "Descriptors.TPSA(m), Descriptors.MolLogP(m)"
   ]
  },
  {
   "cell_type": "markdown",
   "metadata": {},
   "source": [
    "### Visualize descriptors\n",
    "Similarity maps can be used to visualize descriptors that can be divided into atomic contributions.\n",
    "Crippen contributions to logP is shown in the below figure."
   ]
  },
  {
   "cell_type": "code",
   "execution_count": 177,
   "metadata": {},
   "outputs": [
    {
     "data": {
      "image/png": "[encoded data removed]",
      "text/plain": [
       "<Figure size 180x180 with 1 Axes>"
      ]
     },
     "metadata": {
      "needs_background": "light"
     },
     "output_type": "display_data"
    }
   ],
   "source": [
    "from rdkit.Chem import rdMolDescriptors\n",
    "from rdkit.Chem.Draw import SimilarityMaps\n",
    "contribs = rdMolDescriptors._CalcCrippenContribs(m)\n",
    "fig = SimilarityMaps.GetSimilarityMapFromWeights(m, [x for x, y in contribs], colorMap='jet', contourLines=8)"
   ]
  },
  {
   "cell_type": "markdown",
   "metadata": {},
   "source": [
    "## Fragments"
   ]
  },
  {
   "cell_type": "markdown",
   "metadata": {},
   "source": [
    "### Recap Implementation\n",
    "Recap uses a set of chemical transformations mimicking common reactions carried out in the lab in order to decompose a molecule into a series of reasonable fragments."
   ]
  },
  {
   "cell_type": "code",
   "execution_count": 129,
   "metadata": {},
   "outputs": [],
   "source": [
    "from rdkit import Chem\n",
    "from rdkit.Chem import Recap\n",
    "m = Chem.MolFromSmiles('c1ccccc1OCCOC(=O)CC')\n",
    "hierarch = Recap.RecapDecompose(m)"
   ]
  },
  {
   "cell_type": "code",
   "execution_count": 133,
   "metadata": {},
   "outputs": [
    {
     "data": {
      "text/plain": [
       "['*C(=O)CC', '*CCOC(=O)CC', '*CCOc1ccccc1', '*OCCOc1ccccc1', '*c1ccccc1']"
      ]
     },
     "execution_count": 133,
     "metadata": {},
     "output_type": "execute_result"
    }
   ],
   "source": [
    "ks = hierarch.children.keys()\n",
    "sorted(ks) # children of root"
   ]
  },
  {
   "cell_type": "code",
   "execution_count": 131,
   "metadata": {},
   "outputs": [
    {
     "data": {
      "text/plain": [
       "['*C(=O)CC', '*CCO*', '*CCOc1ccccc1', '*c1ccccc1']"
      ]
     },
     "execution_count": 131,
     "metadata": {},
     "output_type": "execute_result"
    }
   ],
   "source": [
    "ks=hierarch.GetLeaves().keys()\n",
    "sorted(ks) # fragments at leaves"
   ]
  },
  {
   "cell_type": "markdown",
   "metadata": {},
   "source": [
    "### BRICS Implementation\n",
    "BRICS provides another method for fragmenting molecules along synthetically accessible bonds"
   ]
  },
  {
   "cell_type": "code",
   "execution_count": 134,
   "metadata": {},
   "outputs": [
    {
     "data": {
      "text/plain": [
       "['[1*]C(=O)CC', '[16*]c1ccccc1', '[3*]O[3*]', '[4*]CC[4*]']"
      ]
     },
     "execution_count": 134,
     "metadata": {},
     "output_type": "execute_result"
    }
   ],
   "source": [
    "from rdkit.Chem import BRICS\n",
    "sorted(BRICS.BRICSDecompose(m))"
   ]
  },
  {
   "cell_type": "markdown",
   "metadata": {},
   "source": [
    "### Other fragmentation approaches\n",
    "Here’s a quick demonstration of using that to break all bonds between atoms in rings and atoms not in rings."
   ]
  },
  {
   "cell_type": "code",
   "execution_count": 136,
   "metadata": {},
   "outputs": [
    {
     "data": {
      "text/plain": [
       "'*C1CC([4*])C1[6*].[1*]C.[3*]O.[5*]CC[8*].[7*]C1CC1'"
      ]
     },
     "execution_count": 136,
     "metadata": {},
     "output_type": "execute_result"
    }
   ],
   "source": [
    "m = Chem.MolFromSmiles('CC1CC(O)C1CCC1CC1')\n",
    "bis = m.GetSubstructMatches(Chem.MolFromSmarts('[!R][R]')) #  finding all the atom pairs\n",
    "bs = [m.GetBondBetweenAtoms(x,y).GetIdx() for x,y in bis] # get corresponding bond indices\n",
    "nm = Chem.FragmentOnBonds(m,bs)\n",
    "Chem.MolToSmiles(nm, True)"
   ]
  },
  {
   "cell_type": "markdown",
   "metadata": {},
   "source": [
    "## Chemical Features and Pharmacophores"
   ]
  },
  {
   "cell_type": "code",
   "execution_count": 138,
   "metadata": {},
   "outputs": [],
   "source": [
    "from rdkit import Chem\n",
    "from rdkit.Chem import ChemicalFeatures\n",
    "from rdkit import RDConfig\n",
    "import os\n",
    "fdefName = os.path.join(RDConfig.RDDataDir,'BaseFeatures.fdef')\n",
    "factory = ChemicalFeatures.BuildFeatureFactory(fdefName)"
   ]
  },
  {
   "cell_type": "code",
   "execution_count": 139,
   "metadata": {},
   "outputs": [
    {
     "name": "stdout",
     "output_type": "stream",
     "text": [
      "Donor\n",
      "SingleAtomDonor\n",
      "(0,)\n",
      "Aromatic\n",
      "(2, 3, 4, 5, 6, 7)\n"
     ]
    }
   ],
   "source": [
    "m = Chem.MolFromSmiles('OCc1ccccc1CN')\n",
    "feats = factory.GetFeaturesForMol(m)\n",
    "print(feats[0].GetFamily())\n",
    "print(feats[0].GetType())\n",
    "print(feats[0].GetAtomIds())\n",
    "print(feats[4].GetFamily())\n",
    "print(feats[4].GetAtomIds())"
   ]
  },
  {
   "cell_type": "markdown",
   "metadata": {},
   "source": [
    "# References \n",
    "\n",
    "* http://www.rdkit.org/docs/index.html\n",
    "* Bemis, G. W.; Murcko, M. A. “The Properties of Known Drugs. 1. Molecular Frameworks.” J. Med. Chem. 39:2887-93 (1996).\n",
    "* Cao, Dong-Sheng & Xu, Qingsong & Hu, Qiannan & Liang, Yi-Zeng. (2013). manual for chemopy. "
   ]
  }
 ],
 "metadata": {
  "kernelspec": {
   "display_name": "Python 3",
   "language": "python",
   "name": "python3"
  },
  "language_info": {
   "codemirror_mode": {
    "name": "ipython",
    "version": 3
   },
   "file_extension": ".py",
   "mimetype": "text/x-python",
   "name": "python",
   "nbconvert_exporter": "python",
   "pygments_lexer": "ipython3",
   "version": "3.6.10"
  }
 },
 "nbformat": 4,
 "nbformat_minor": 4
}
